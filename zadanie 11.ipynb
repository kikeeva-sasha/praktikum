{
 "cells": [
  {
   "cell_type": "code",
   "execution_count": 1,
   "id": "initial_id",
   "metadata": {
    "collapsed": true,
    "ExecuteTime": {
     "end_time": "2023-10-20T00:50:19.035965300Z",
     "start_time": "2023-10-20T00:50:19.031793400Z"
    }
   },
   "outputs": [
    {
     "name": "stdout",
     "output_type": "stream",
     "text": [
      "[8, 20, 5, 3, 8, 11, 12, 11]\n",
      "[2, 2, 2, 2, 2, 5, 5, 3, 2, 2, 2, 11, 2, 2, 3, 11]\n"
     ]
    }
   ],
   "source": [
    "from random import *\n",
    "def deliteli(n): #стандартная функция для поиска делителей через while\n",
    "   i = 2 #поиск делителей начинается с двойки\n",
    "   d = []\n",
    "   while i * i <= n:\n",
    "       if n % i!=0: #если число не делится без остатка на i, значит оно не является делителем и проверяется следующее число\n",
    "           i += 1\n",
    "       else:\n",
    "           n //= i #в противном случае оно добавляется в список делителей\n",
    "           d.append(i)\n",
    "   if n > 1: #само число является делителем\n",
    "       d.append(n)\n",
    "   return d\n",
    "\n",
    "def zamena(lst):\n",
    "   lstnew = []\n",
    "   for num in lst:\n",
    "       if num == 1:#тк, 1 - простое число, его раскладывать не нужно\n",
    "           lstnew.append(num)\n",
    "       else:\n",
    "           d = deliteli(num)\n",
    "           lstnew.extend(d)\n",
    "   return lstnew\n",
    "#lst = [3, 6, 7, 12] тест\n",
    "lst = [randint(1,20) for i in range(randint(3,10))]\n",
    "print(lst)\n",
    "print(zamena(lst))"
   ]
  },
  {
   "cell_type": "code",
   "execution_count": null,
   "outputs": [],
   "source": [],
   "metadata": {
    "collapsed": false
   },
   "id": "bf2706e211baf9d0"
  }
 ],
 "metadata": {
  "kernelspec": {
   "display_name": "Python 3",
   "language": "python",
   "name": "python3"
  },
  "language_info": {
   "codemirror_mode": {
    "name": "ipython",
    "version": 2
   },
   "file_extension": ".py",
   "mimetype": "text/x-python",
   "name": "python",
   "nbconvert_exporter": "python",
   "pygments_lexer": "ipython2",
   "version": "2.7.6"
  }
 },
 "nbformat": 4,
 "nbformat_minor": 5
}
